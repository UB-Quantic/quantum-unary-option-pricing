{
 "cells": [
  {
   "cell_type": "code",
   "execution_count": 1,
   "metadata": {},
   "outputs": [],
   "source": [
    "import matplotlib.pyplot as plt\n",
    "%matplotlib inline\n",
    "import numpy as np\n",
    "from math import pi"
   ]
  },
  {
   "cell_type": "code",
   "execution_count": 2,
   "metadata": {},
   "outputs": [],
   "source": [
    "import qcgpu"
   ]
  },
  {
   "cell_type": "code",
   "execution_count": 3,
   "metadata": {},
   "outputs": [],
   "source": [
    "#Creation and normalization of an array with gaussian probabilities\n",
    "def gauss(x, mu, sigma):\n",
    "    dx = x[1]-x[0]\n",
    "    g = (1/(np.sqrt(2*pi*sigma**2)))*np.exp(-((x-mu)**2)/(2*sigma**2))\n",
    "    f = g*dx/(np.sum(g * dx))\n",
    "    return f"
   ]
  },
  {
   "cell_type": "code",
   "execution_count": 4,
   "metadata": {},
   "outputs": [],
   "source": [
    "#Variational circuit that simulates a quantum random walk of a particle\n",
    "def RWcircuit(qubits, parameters):\n",
    "    if qubits%2==0: raise ValueError('Try odd number of qubits')\n",
    "    C = qcgpu.State(qubits+1)\n",
    "    mid = int((qubits-1)/2)\n",
    "    C.x(mid)\n",
    "    p = 0\n",
    "    for layer in range(mid):\n",
    "        #Population distribution to open states\n",
    "        C.cu(mid-layer, mid-layer-1, parameters[p], 0, 0)\n",
    "        p += 1\n",
    "        C.cx(mid-layer-1, mid-layer)\n",
    "        C.cu(mid+layer, mid+layer+1, parameters[p], 0, 0)\n",
    "        p += 1\n",
    "        C.cx(mid+layer+1, mid+layer)\n",
    "        for i in reversed(range(layer)):\n",
    "            #Probabilistic SWAPs for already occupied states\n",
    "            C.cx(mid-i, mid-i-1)\n",
    "            C.cu(mid-i-1, mid-i, parameters[p], 0, 0)\n",
    "            p += 1\n",
    "            C.cx(mid-i, mid-i-1)\n",
    "            \n",
    "            C.cx(mid+i, mid+i+1)\n",
    "            C.cu(mid+i+1, mid+i, parameters[p], 0, 0)\n",
    "            p += 1\n",
    "            C.cx(mid+i, mid+i+1)\n",
    "    return C\n",
    "    "
   ]
  },
  {
   "cell_type": "code",
   "execution_count": 5,
   "metadata": {},
   "outputs": [],
   "source": [
    "#Parameter creation for the first step of the variational algorithm\n",
    "def parameters(qubits):\n",
    "    a = int((qubits**2 - 2 * qubits + 1)/2)\n",
    "    p = 2*pi*np.random.random((a,))\n",
    "    return p"
   ]
  },
  {
   "cell_type": "code",
   "execution_count": 6,
   "metadata": {},
   "outputs": [],
   "source": [
    "#Cost funtion \n",
    "def cost_function(par, qubits, ga):\n",
    "    circ = RWcircuit(qubits, par)\n",
    "    cost = 0\n",
    "    #psi = circ.amplitudes()\n",
    "    prob = circ.probabilities()\n",
    "    for i in range(qubits):\n",
    "        #cost+=((ga[i]) - (np.abs(psi[int(2**i)]))**2)**2\n",
    "        cost+=((ga[i]) - (prob[int(2**i)]))**2\n",
    "    return cost"
   ]
  },
  {
   "cell_type": "code",
   "execution_count": 7,
   "metadata": {},
   "outputs": [],
   "source": [
    "#Probability distribution of the circuit's final state\n",
    "def result(par, qubits):\n",
    "    circ = RWcircuit(qubits, par)\n",
    "    #psi = circ.amplitudes()\n",
    "    prob = circ.probabilities()\n",
    "    sol = []\n",
    "    for i in range(qubits):\n",
    "        #sol.append(np.abs(psi[int(2**i)])**2)\n",
    "        sol.append(prob[int(2**i)])\n",
    "    return np.array(sol)"
   ]
  },
  {
   "cell_type": "code",
   "execution_count": 50,
   "metadata": {},
   "outputs": [],
   "source": [
    "def optimize(qubits, mu, sigma, S, meth='COBYLA', to = 1e-6, maxi = 50000):\n",
    "    g = gauss(S, mu, sigma)\n",
    "    para = parameters(qubits)\n",
    "    solution = minimize(cost_function, para, args=(qubits, g), method=meth, tol=to, options={'maxiter':maxi})\n",
    "    #solution = minimize(cost_function, para, args=(qubits, g), method=meth)\n",
    "    return solution.x, cost_function(solution.x, qubits, g)"
   ]
  },
  {
   "cell_type": "code",
   "execution_count": 9,
   "metadata": {},
   "outputs": [],
   "source": [
    "#Circuit that encodes the pay-off on the ancilla qubit (MSQ)\n",
    "def PayoffCircuit(qubits, C, K, S):\n",
    "    for i in range(qubits):\n",
    "        bK = i\n",
    "        if K<S[i]:\n",
    "            break\n",
    "    #Control-RY rotations controled by states with higher value than strike\n",
    "    #targeting the ancilla qubit\n",
    "    for i in range(bK, qubits):\n",
    "        angle = 2 * np.arcsin(np.sqrt((S[i]-K)/S[qubits-1]))\n",
    "        C.cu(i, qubits, angle, 0, 0)\n",
    "    return C"
   ]
  },
  {
   "cell_type": "code",
   "execution_count": 10,
   "metadata": {},
   "outputs": [],
   "source": [
    "#Classical algorithm to compare the pay-off from a precise gaussian to the quantum result\n",
    "def Payoff(qubits, K, mu, sigma, C, S):\n",
    "    #psi = C.amplitudes()\n",
    "    prob = C.probabilities()\n",
    "    CPayoff = 0\n",
    "    Sp = np.linspace(mu-3*sigma, mu+3*sigma, 2**qubits)\n",
    "    fp = gauss(Sp, mu, sigma)\n",
    "    for i in range(2**qubits):\n",
    "        if K<Sp[i]:\n",
    "            CPayoff += fp[i]*(Sp[i]-K)\n",
    "    #The quantum pay-off is computed adding the probabilities \n",
    "    #of finding the ancilla qubit on the state 1\n",
    "    QPayoff = 0\n",
    "    for i in range(2**qubits, 2**(qubits+1)):\n",
    "        #QPayoff += S[qubits-1]*(np.abs(psi[i])**2)\n",
    "        QPayoff += S[qubits-1]*(prob[i])\n",
    "    return CPayoff, QPayoff"
   ]
  },
  {
   "cell_type": "code",
   "execution_count": 11,
   "metadata": {},
   "outputs": [],
   "source": [
    "from scipy.optimize import minimize"
   ]
  },
  {
   "cell_type": "code",
   "execution_count": 12,
   "metadata": {},
   "outputs": [
    {
     "data": {
      "text/plain": [
       "\"\\n'CG' -> not usable for qcgpu\\n'BFGS' -> not usable for qcgpu\\n'L-BFGS-B' -> not usable for qcgpu\\n'SLSQP' -> not usable for qcgpu\\n'COBYLA' -> for qcgpu only this one works\\n\""
      ]
     },
     "execution_count": 12,
     "metadata": {},
     "output_type": "execute_result"
    }
   ],
   "source": [
    "#Minimization methods\n",
    "'''\n",
    "'CG' -> not usable for qcgpu\n",
    "'BFGS' -> not usable for qcgpu\n",
    "'L-BFGS-B' -> not usable for qcgpu\n",
    "'SLSQP' -> not usable for qcgpu\n",
    "'COBYLA' -> for qcgpu only this one works\n",
    "'''"
   ]
  },
  {
   "cell_type": "code",
   "execution_count": 13,
   "metadata": {},
   "outputs": [
    {
     "name": "stdout",
     "output_type": "stream",
     "text": [
      "6.989970753920003e-05\n"
     ]
    }
   ],
   "source": [
    "#Initialize variables used in the computation\n",
    "qu = 19\n",
    "K = 125\n",
    "S0 = 100\n",
    "sig = 20\n",
    "S = np.linspace(S0-3*sig, S0+3*sig, qu)\n",
    "optimal_parameters, cost = optimize(qu, S0, sig, S)\n",
    "print(cost)"
   ]
  },
  {
   "cell_type": "code",
   "execution_count": 14,
   "metadata": {},
   "outputs": [],
   "source": [
    "#Calculate the final probabilities using the optimized parameters\n",
    "r = result(optimal_parameters, qu)"
   ]
  },
  {
   "cell_type": "code",
   "execution_count": 15,
   "metadata": {},
   "outputs": [
    {
     "name": "stderr",
     "output_type": "stream",
     "text": [
      "/home/sergirc/PhD/extra-env/lib/python3.7/site-packages/ipykernel_launcher.py:18: UserWarning: Creating legend with loc=\"best\" can be slow with large amounts of data.\n",
      "/home/sergirc/PhD/extra-env/lib/python3.7/site-packages/ipykernel_launcher.py:20: UserWarning: Creating legend with loc=\"best\" can be slow with large amounts of data.\n",
      "/home/sergirc/PhD/extra-env/lib/python3.7/site-packages/IPython/core/pylabtools.py:128: UserWarning: Creating legend with loc=\"best\" can be slow with large amounts of data.\n",
      "  fig.canvas.print_figure(bytes_io, **kw)\n"
     ]
    },
    {
     "data": {
      "image/png": "[encoded data removed]",
      "text/plain": [
       "<Figure size 432x288 with 1 Axes>"
      ]
     },
     "metadata": {
      "needs_background": "light"
     },
     "output_type": "display_data"
    }
   ],
   "source": [
    "#Plot the probabilities of the circuit against the classical gaussian probabilities\n",
    "width = (S[1]-S[0])/1.1\n",
    "Sp = np.linspace(S0-3*sig, S0+3*sig, 2**qu)\n",
    "fp = gauss(Sp, S0, sig)\n",
    "fig, ax = plt.subplots()\n",
    "#rects1 = ax.bar(S-width/2, g, width, label='Exact')\n",
    "rects2 = ax.bar(S, r, width, label='Quantum')\n",
    "ax.plot(Sp, max(r)*fp/max(fp), 'C1', label='Exact')\n",
    "\n",
    "ax.vlines(K, 0, max(r), linestyles='dashed', label='K = {}'.format(K))\n",
    "plt.ylabel('Probability')\n",
    "plt.xlabel('Option price')\n",
    "plt.title('Option price unary distribution for {} qubits.'.format(qu))\n",
    "ax.legend()\n",
    "\n",
    "\n",
    "fig.tight_layout()\n",
    "\n",
    "plt.savefig('{}qubits_Comparision.png'.format(qu), bbox_inches='tight')\n",
    "\n",
    "plt.show()"
   ]
  },
  {
   "cell_type": "code",
   "execution_count": 16,
   "metadata": {},
   "outputs": [],
   "source": [
    "#Run the optmized circuit with the pay-off circuit\n",
    "C = RWcircuit(qu, optimal_parameters)\n",
    "C = PayoffCircuit(qu, C, K, S)"
   ]
  },
  {
   "cell_type": "code",
   "execution_count": 17,
   "metadata": {},
   "outputs": [
    {
     "name": "stdout",
     "output_type": "stream",
     "text": [
      "With precision 524288\n",
      "Classical Pay-off: 0.9594389771139717\n",
      "\n",
      "With precision 19 qubits\n",
      "Quantum Pay-off: 0.7214876565922168\n",
      "\n",
      "Percentage off: 28.311922216034894%\n"
     ]
    }
   ],
   "source": [
    "#Compute the classical precise pay-off and compare it with the one found quantically\n",
    "CP, QP = Payoff(qu, K, S0, sig, C, S)\n",
    "\n",
    "print('With precision {}'.format(2**qu))\n",
    "print('Classical Pay-off: {}'.format(CP))\n",
    "print('')\n",
    "print('With precision {} qubits'.format(qu))\n",
    "print('Quantum Pay-off: {}'.format(QP))\n",
    "print('')\n",
    "print('Percentage off: {}%'.format(np.abs(100*(CP-QP)*2/(CP + QP))))"
   ]
  },
  {
   "cell_type": "code",
   "execution_count": 51,
   "metadata": {},
   "outputs": [
    {
     "name": "stdout",
     "output_type": "stream",
     "text": [
      "1.0518334437343396e-05\n"
     ]
    },
    {
     "data": {
      "image/png": "[encoded data removed]",
      "text/plain": [
       "<Figure size 432x288 with 1 Axes>"
      ]
     },
     "metadata": {
      "needs_background": "light"
     },
     "output_type": "display_data"
    }
   ],
   "source": [
    "#Initialize variables used in the computation\n",
    "qu = 15\n",
    "K = 125\n",
    "S0 = 100\n",
    "sig = 20\n",
    "S = np.linspace(S0-3*sig, S0+3*sig, qu)\n",
    "optimal_parameters, cost = optimize(qu, S0, sig, S)\n",
    "print(cost)\n",
    "\n",
    "#Calculate the final probabilities using the optimized parameters\n",
    "r = result(optimal_parameters, qu)\n",
    "\n",
    "#Plot the probabilities of the circuit against the classical gaussian probabilities\n",
    "\n",
    "width = (S[1]-S[0])/1.1\n",
    "Sp = np.linspace(S0-3*sig, S0+3*sig, 2**qu)\n",
    "fp = gauss(Sp, S0, sig)\n",
    "fig, ax = plt.subplots()\n",
    "#rects1 = ax.bar(S-width/2, g, width, label='Exact')\n",
    "rects2 = ax.bar(S, r, width, label='Quantum')\n",
    "ax.plot(Sp, max(r)*fp/max(fp), 'C1', label='Exact')\n",
    "\n",
    "ax.vlines(K, 0, max(r), linestyles='dashed', label='K = {}'.format(K))\n",
    "plt.ylabel('Probability')\n",
    "plt.xlabel('Option price')\n",
    "plt.title('Option price unary distribution for {} qubits.'.format(qu))\n",
    "ax.legend()\n",
    "\n",
    "\n",
    "fig.tight_layout()\n",
    "\n",
    "#plt.savefig('{}qubits_Comparision.png'.format(qu), bbox_inches='tight')\n",
    "\n",
    "plt.show()"
   ]
  },
  {
   "cell_type": "code",
   "execution_count": 52,
   "metadata": {},
   "outputs": [
    {
     "name": "stdout",
     "output_type": "stream",
     "text": [
      "With precision 32768\n",
      "Classical Pay-off: 0.9594515865278388\n",
      "\n",
      "With precision 15 qubits\n",
      "Quantum Pay-off: 0.9758239332586527\n",
      "\n",
      "Percentage off: 1.6919913018504118%\n"
     ]
    }
   ],
   "source": [
    "#Run the optmized circuit with the pay-off circuit\n",
    "C = RWcircuit(qu, optimal_parameters)\n",
    "C = PayoffCircuit(qu, C, K, S)\n",
    "\n",
    "#Compute the classical precise pay-off and compare it with the one found quantically\n",
    "CP, QP = Payoff(qu, K, S0, sig, C, S)\n",
    "\n",
    "print('With precision {}'.format(2**qu))\n",
    "print('Classical Pay-off: {}'.format(CP))\n",
    "print('')\n",
    "print('With precision {} qubits'.format(qu))\n",
    "print('Quantum Pay-off: {}'.format(QP))\n",
    "print('')\n",
    "print('Percentage off: {}%'.format(np.abs(100*(CP-QP)*2/(CP + QP))))"
   ]
  },
  {
   "cell_type": "code",
   "execution_count": null,
   "metadata": {},
   "outputs": [],
   "source": []
  }
 ],
 "metadata": {
  "kernelspec": {
   "display_name": "Python 3",
   "language": "python",
   "name": "python3"
  },
  "language_info": {
   "codemirror_mode": {
    "name": "ipython",
    "version": 3
   },
   "file_extension": ".py",
   "mimetype": "text/x-python",
   "name": "python",
   "nbconvert_exporter": "python",
   "pygments_lexer": "ipython3",
   "version": "3.7.0"
  }
 },
 "nbformat": 4,
 "nbformat_minor": 2
}
