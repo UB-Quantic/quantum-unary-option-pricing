{
 "cells": [
  {
   "cell_type": "code",
   "execution_count": 1,
   "metadata": {},
   "outputs": [],
   "source": [
    "import matplotlib.pyplot as plt\n",
    "%matplotlib inline\n",
    "import numpy as np\n",
    "from math import pi"
   ]
  },
  {
   "cell_type": "code",
   "execution_count": 2,
   "metadata": {},
   "outputs": [],
   "source": [
    "from QuantumState import QCircuit"
   ]
  },
  {
   "cell_type": "code",
   "execution_count": 3,
   "metadata": {},
   "outputs": [],
   "source": [
    "def VCircuit(qubits, parameters, layers):\n",
    "    if qubits%2==1: raise ValueError('Try even number of qubits')\n",
    "    \n",
    "    C = QCircuit(qubits)\n",
    "    p = 0\n",
    "    for layer in range(layers):\n",
    "        for i in range(qubits):\n",
    "            C.Ry(i, parameters[p])\n",
    "            p+=1\n",
    "        for i in range(0, qubits, 2):\n",
    "            C.Cz(i, i+1)\n",
    "        for i in range(qubits):\n",
    "            C.Ry(i, parameters[p])\n",
    "            p+=1\n",
    "        C.Cz(0, qubits-1)\n",
    "        for i in range(1, qubits-1, 2):\n",
    "            C.Cz(i, i+1)\n",
    "    for i in range(qubits):\n",
    "        C.Ry(i, parameters[p])\n",
    "        p+=1\n",
    "    return C"
   ]
  },
  {
   "cell_type": "code",
   "execution_count": 4,
   "metadata": {},
   "outputs": [],
   "source": [
    "def parameters(qubits, layers):\n",
    "    num = 2 * qubits * (layers + 1)\n",
    "    p = 2*pi*np.random.random((num,))\n",
    "    return p"
   ]
  },
  {
   "cell_type": "code",
   "execution_count": 5,
   "metadata": {},
   "outputs": [],
   "source": [
    "def HO(x, p, psi, m, w, mu):\n",
    "    H = ((x-mu)*psi + p/(m*w))**2\n",
    "    return H"
   ]
  },
  {
   "cell_type": "code",
   "execution_count": 6,
   "metadata": {},
   "outputs": [],
   "source": [
    "def cost_function(parameters, qubits, layers, m, w, mu, x):\n",
    "    circ = VCircuit(qubits, parameters, layers)\n",
    "    cost = 0\n",
    "    psi = circ.psi\n",
    "    dx = x[1]-x[0]\n",
    "    p = np.gradient(psi, dx)\n",
    "    for i in range(2**qubits):\n",
    "        cost+=HO(x[i], p[i], psi[i], m, w, mu)\n",
    "    return cost"
   ]
  },
  {
   "cell_type": "code",
   "execution_count": 7,
   "metadata": {},
   "outputs": [],
   "source": [
    "def result(parameters, qubits, layers):\n",
    "    circ = VCircuit(qubits, parameters, layers)\n",
    "    psi = circ.psi\n",
    "    sol = []\n",
    "    for i in range(2**qubits):\n",
    "        sol.append((np.abs(psi[i])**2))\n",
    "    return np.array(sol)"
   ]
  },
  {
   "cell_type": "code",
   "execution_count": 8,
   "metadata": {},
   "outputs": [],
   "source": [
    "def gauss(x, mu, sigma):\n",
    "    g = (1/(np.sqrt(2*pi*sigma**2)))*np.exp(-((x-mu)**2)/(2*sigma**2))\n",
    "    dx = x[1]-x[0]\n",
    "    f = g*dx/(np.sum(g * dx))\n",
    "    return f"
   ]
  },
  {
   "cell_type": "code",
   "execution_count": 36,
   "metadata": {},
   "outputs": [],
   "source": [
    "def optimize(qubits, layers, m, w, S0, S, to = 1e-5, meth='L-BFGS-B'): #, maxi = 10000\n",
    "    para = parameters(qubits, layers)\n",
    "    solution = minimize(cost_function, para, args=(qubits, layers, m, w, S0, S), method=meth, tol=to) #, options={'maxiter':maxi}\n",
    "    #solution = minimize(cost_function, para, args=(qubits, layers, m, w, S0, S), method=meth)\n",
    "    return solution.x, cost_function(solution.x, qubits, layers, m, w, S0, S)"
   ]
  },
  {
   "cell_type": "code",
   "execution_count": 10,
   "metadata": {},
   "outputs": [],
   "source": [
    "from scipy.optimize import minimize"
   ]
  },
  {
   "cell_type": "code",
   "execution_count": 42,
   "metadata": {},
   "outputs": [],
   "source": [
    "qu = 8\n",
    "fr = 1\n",
    "lay = qu\n",
    "m = 1/2\n",
    "w = 1\n",
    "S0 = 5\n",
    "K = 6\n",
    "sig = 2*m*w\n",
    "\n",
    "S = np.linspace(S0-3*sig, S0+3*sig, (2**qu))\n",
    "\n",
    "g = gauss(S, S0, sig)"
   ]
  },
  {
   "cell_type": "code",
   "execution_count": null,
   "metadata": {},
   "outputs": [],
   "source": [
    "optimal_parameters, cost = optimize(qu, lay, m, w, S0, S, meth='BFGS')"
   ]
  },
  {
   "cell_type": "code",
   "execution_count": null,
   "metadata": {},
   "outputs": [],
   "source": [
    "print(cost)"
   ]
  },
  {
   "cell_type": "code",
   "execution_count": null,
   "metadata": {},
   "outputs": [],
   "source": [
    "r = result(optimal_parameters, qu, lay)"
   ]
  },
  {
   "cell_type": "code",
   "execution_count": null,
   "metadata": {},
   "outputs": [],
   "source": [
    "#Plot the probabilities of the circuit against the classical gaussian probabilities\n",
    "width = (S[1]-S[0])/1.2\n",
    "fig, ax = plt.subplots()\n",
    "#rects1 = ax.bar(S-width/2, g, width, label='Exact')\n",
    "rects2 = ax.bar(S, r, width, label='Quantum')\n",
    "ax.plot(S, g, 'C1', label='Exact')\n",
    "\n",
    "ax.vlines(K, 0, max(r), linestyles='dashed', label='K = {}'.format(K))\n",
    "plt.ylabel('Probability')\n",
    "plt.xlabel('Option price')\n",
    "plt.title('Option price binary distribution for {} qubits and {} layers- Hamiltonian'.format(qu, lay))\n",
    "ax.legend()\n",
    "\n",
    "\n",
    "fig.tight_layout()\n",
    "\n",
    "plt.savefig('{}qubits{}layers_Hamiltonian.png'.format(qu, lay), bbox_inches='tight')\n",
    "\n",
    "plt.show()"
   ]
  },
  {
   "cell_type": "code",
   "execution_count": null,
   "metadata": {},
   "outputs": [],
   "source": []
  }
 ],
 "metadata": {
  "kernelspec": {
   "display_name": "Python 3",
   "language": "python",
   "name": "python3"
  },
  "language_info": {
   "codemirror_mode": {
    "name": "ipython",
    "version": 3
   },
   "file_extension": ".py",
   "mimetype": "text/x-python",
   "name": "python",
   "nbconvert_exporter": "python",
   "pygments_lexer": "ipython3",
   "version": "3.7.0"
  }
 },
 "nbformat": 4,
 "nbformat_minor": 2
}
