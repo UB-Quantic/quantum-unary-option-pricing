{
 "cells": [
  {
   "cell_type": "code",
   "execution_count": 1,
   "metadata": {},
   "outputs": [],
   "source": [
    "import matplotlib.pyplot as plt\n",
    "%matplotlib inline\n",
    "import numpy as np\n",
    "from math import pi"
   ]
  },
  {
   "cell_type": "code",
   "execution_count": 2,
   "metadata": {},
   "outputs": [],
   "source": [
    "import qcgpu"
   ]
  },
  {
   "cell_type": "code",
   "execution_count": 3,
   "metadata": {},
   "outputs": [],
   "source": [
    "#Creation and normalization of an array with gaussian probabilities\n",
    "def gauss(x, mu, sigma):\n",
    "    dx = x[1]-x[0]\n",
    "    g = (1/(np.sqrt(2*pi*sigma**2)))*np.exp(-((x-mu)**2)/(2*sigma**2))\n",
    "    f = g*dx/(np.sum(g * dx))\n",
    "    return f"
   ]
  },
  {
   "cell_type": "code",
   "execution_count": 4,
   "metadata": {},
   "outputs": [],
   "source": [
    "def log_normal(x, mu, sig):\n",
    "    dx = []\n",
    "    log_norm = 1 / (x * sig * np.sqrt(2 * np.pi)) * np.exp(- np.power(np.log(x) - mu, 2.) / (2 * np.power(sig, 2.)))\n",
    "    dx.append(x[1]-x[0])\n",
    "    for i in range(1,len(x)):\n",
    "        dx.append(x[i]-x[i-1])\n",
    "    dx = np.array(dx)\n",
    "\n",
    "    f = log_norm*dx/(np.sum(log_norm * dx))\n",
    "    return f"
   ]
  },
  {
   "cell_type": "code",
   "execution_count": 5,
   "metadata": {},
   "outputs": [],
   "source": [
    "#Variational circuit that simulates a quantum random walk of a particle\n",
    "def DirectCircuit(qubits, parameters):\n",
    "    if qubits%2==0: raise ValueError('Try odd number of qubits')\n",
    "    C = qcgpu.State(qubits+1)\n",
    "    mid = int((qubits-1)/2)\n",
    "    C.x(mid)\n",
    "    for i in range(mid):\n",
    "        C.cx(mid-i, mid-i-1)\n",
    "        C.cu(mid-i-1, mid-i, parameters[mid-i-1], 0, 0)\n",
    "        C.cx(mid-i, mid-i-1)\n",
    "        C.cx(mid+i, mid+i+1)\n",
    "        C.cu(mid+i+1, mid+i, parameters[mid+i], 0, 0)\n",
    "        C.cx(mid+i, mid+i+1)\n",
    "    return C"
   ]
  },
  {
   "cell_type": "code",
   "execution_count": 6,
   "metadata": {},
   "outputs": [],
   "source": [
    "#Parameter creation for the first step of the variational algorithm\n",
    "def parameters(qubits):\n",
    "    a = int((qubits-1))\n",
    "    p = 2*pi*np.random.random((a,))\n",
    "    return p"
   ]
  },
  {
   "cell_type": "code",
   "execution_count": 7,
   "metadata": {},
   "outputs": [],
   "source": [
    "def DirectParameters(qubits, mu, sigma, S, lognormal=False):\n",
    "    if lognormal==True:\n",
    "        ga = log_normal(S, mu, sigma)\n",
    "    else:\n",
    "        ga = gauss(S, mu, sigma)\n",
    "    mid = int((qubits-1)/2)\n",
    "    last = 1\n",
    "    parameters = []\n",
    "    for i in range(mid-1):\n",
    "        angle = 2 * np.arctan(np.sqrt(ga[i]/(ga[i+1] * last)))\n",
    "        parameters.append(angle)\n",
    "        last = (np.cos(angle/2))**2\n",
    "    angle = 2 * np.arcsin(np.sqrt(ga[mid-1]/last))\n",
    "    parameters.append(angle)\n",
    "    last = (np.cos(angle/2))**2\n",
    "    for i in range(mid, qubits-1):\n",
    "        angle = 2 * np.arccos(np.sqrt(ga[i]/last))\n",
    "        parameters.append(angle)\n",
    "        last *= (np.sin(angle/2))**2\n",
    "    return parameters"
   ]
  },
  {
   "cell_type": "code",
   "execution_count": 8,
   "metadata": {},
   "outputs": [],
   "source": [
    "#Probability distribution of the circuit's final state\n",
    "def result(par, qubits):\n",
    "    circ = DirectCircuit(qubits, par)\n",
    "    psi = circ.amplitudes()\n",
    "    sol = []\n",
    "    for i in range(qubits):\n",
    "        sol.append(np.abs(psi[int(2**i)])**2)\n",
    "    return np.array(sol)"
   ]
  },
  {
   "cell_type": "code",
   "execution_count": 9,
   "metadata": {},
   "outputs": [],
   "source": [
    "#Circuit that encodes the pay-off on the ancilla qubit (MSQ)\n",
    "def PayoffCircuit(qubits, C, K, S):\n",
    "    for i in range(qubits):\n",
    "        bK = i\n",
    "        if K<S[i]:\n",
    "            break\n",
    "    #Control-RY rotations controled by states with higher value than strike\n",
    "    #targeting the ancilla qubit\n",
    "    for i in range(bK, qubits):\n",
    "        angle = 2 * np.arcsin(np.sqrt((S[i]-K)/S[qubits-1]))\n",
    "        C.cu(i, qubits, angle, 0, 0)\n",
    "    return C"
   ]
  },
  {
   "cell_type": "code",
   "execution_count": 10,
   "metadata": {},
   "outputs": [],
   "source": [
    "#Classical algorithm to compare the pay-off from a precise gaussian to the quantum result\n",
    "def Payoff(qubits, K, mu, sigma, C, S, samples=10000, lognormal=False):\n",
    "    CPayoff = 0\n",
    "    if lognormal==True:\n",
    "        Sp = np.linspace(0.01, mu+10*sigma, samples)\n",
    "        ga = log_normal(S, mu, sigma)\n",
    "    else:\n",
    "        Sp = np.linspace(mu-3*sigma, mu+3*sigma, samples)\n",
    "        ga = gauss(S, mu, sigma)\n",
    "    for i in range(10000):\n",
    "        if K<Sp[i]:\n",
    "            CPayoff += fp[i]*(Sp[i]-K)\n",
    "    #Average over some samples of measuring 1 in the ancilla qubit\n",
    "    QPayoff = C.measure_qubit(qu, samples=samples).get('1')*S[qu-1]/samples\n",
    "    return CPayoff, QPayoff"
   ]
  },
  {
   "cell_type": "code",
   "execution_count": 11,
   "metadata": {},
   "outputs": [],
   "source": [
    "from scipy.optimize import minimize"
   ]
  },
  {
   "cell_type": "code",
   "execution_count": 37,
   "metadata": {},
   "outputs": [],
   "source": [
    "#Initialize variables used in the computation\n",
    "qu = 25\n",
    "S0 = 1\n",
    "K = 3.25\n",
    "sig = 1\n",
    "lognormal = True\n",
    "\n",
    "#S = np.linspace(S0-3*sig, S0+3*sig, qu)\n",
    "if lognormal==True:\n",
    "    S = np.linspace(0.01, S0+10*sig, qu)\n",
    "else:\n",
    "    S = np.linspace(S0-3*sig, S0+3*sig, qu)\n",
    "#S = np.logspace(np.log10(0.01), np.log10(10), qu)"
   ]
  },
  {
   "cell_type": "code",
   "execution_count": 38,
   "metadata": {},
   "outputs": [],
   "source": [
    "direct_parameters = DirectParameters(qu, S0, sig, S, lognormal=lognormal)"
   ]
  },
  {
   "cell_type": "code",
   "execution_count": 39,
   "metadata": {},
   "outputs": [],
   "source": [
    "dir_r = result(direct_parameters, qu)"
   ]
  },
  {
   "cell_type": "code",
   "execution_count": 40,
   "metadata": {},
   "outputs": [
    {
     "data": {
      "image/png": "[encoded data removed]",
      "text/plain": [
       "<Figure size 432x288 with 1 Axes>"
      ]
     },
     "metadata": {
      "needs_background": "light"
     },
     "output_type": "display_data"
    }
   ],
   "source": [
    "#Plot the probabilities of the circuit against the classical gaussian probabilities\n",
    "width = (S[1]-S[0])/1.2\n",
    "if lognormal==True:\n",
    "    Sp = np.linspace(0.01, S0+10*sig, 10000)\n",
    "    fp = log_normal(Sp, S0, sig)\n",
    "else:\n",
    "    Sp = np.linspace(S0-3*sig, S0+3*sig, 10000)\n",
    "    fp = gauss(Sp, S0, sig)\n",
    "fig, ax = plt.subplots()\n",
    "#rects1 = ax.bar(S-width/2, g, width, label='Exact')\n",
    "rects2 = ax.bar(S, dir_r, width, label='Quantum')\n",
    "ax.plot(Sp, max(dir_r)*fp/max(fp), 'C1', label='Exact')\n",
    "\n",
    "#ax.vlines(K, 0, max(dir_r), linestyles='dashed', label='K = {}'.format(K))\n",
    "plt.ylabel('Probability')\n",
    "plt.xlabel('Option price')\n",
    "plt.title('Option price unary direct distribution for {} qubits.'.format(qu))\n",
    "ax.legend()\n",
    "\n",
    "\n",
    "fig.tight_layout()\n",
    "\n",
    "#savefig('{}qubits_Comparision.png'.format(qu), bbox_inches='tight')\n",
    "\n",
    "plt.show()"
   ]
  },
  {
   "cell_type": "code",
   "execution_count": 41,
   "metadata": {},
   "outputs": [],
   "source": [
    "#Run the optmized circuit with the pay-off circuit\n",
    "C = DirectCircuit(qu, direct_parameters)\n",
    "C = PayoffCircuit(qu, C, K, S)"
   ]
  },
  {
   "cell_type": "code",
   "execution_count": 43,
   "metadata": {},
   "outputs": [
    {
     "name": "stdout",
     "output_type": "stream",
     "text": [
      "With precision 10000\n",
      "Classical Pay-off: 0.9585879075499748\n",
      "\n",
      "With precision 25 qubits and 10000 samples\n",
      "Quantum Pay-off: 0.9713\n",
      "\n",
      "Percentage off: 1.326126936288576%\n"
     ]
    }
   ],
   "source": [
    "#Compute the classical precise pay-off and compare it with the one found quantically\n",
    "CP, QP = Payoff(qu, K, S0, sig, C, S, lognormal=lognormal)\n",
    "\n",
    "print('With precision {}'.format(10000))\n",
    "print('Classical Pay-off: {}'.format(CP))\n",
    "print('')\n",
    "print('With precision {} qubits and {} samples'.format(qu, 10000))\n",
    "print('Quantum Pay-off: {}'.format(QP))\n",
    "print('')\n",
    "print('Percentage off: {}%'.format(np.abs(100*(CP-QP)/(CP))))"
   ]
  },
  {
   "cell_type": "code",
   "execution_count": null,
   "metadata": {},
   "outputs": [],
   "source": []
  }
 ],
 "metadata": {
  "kernelspec": {
   "display_name": "Python 3",
   "language": "python",
   "name": "python3"
  },
  "language_info": {
   "codemirror_mode": {
    "name": "ipython",
    "version": 3
   },
   "file_extension": ".py",
   "mimetype": "text/x-python",
   "name": "python",
   "nbconvert_exporter": "python",
   "pygments_lexer": "ipython3",
   "version": "3.7.0"
  }
 },
 "nbformat": 4,
 "nbformat_minor": 2
}
